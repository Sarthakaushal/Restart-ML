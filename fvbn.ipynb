{
 "cells": [
  {
   "cell_type": "markdown",
   "metadata": {},
   "source": [
    "[TODO]: About Mnist"
   ]
  },
  {
   "cell_type": "code",
   "execution_count": 1,
   "metadata": {},
   "outputs": [],
   "source": [
    "from core.utils import Utils\n",
    "\n",
    "device = Utils.select_cuda_device('cpu')"
   ]
  },
  {
   "cell_type": "markdown",
   "metadata": {},
   "source": [
    "## Creating the data lodaers"
   ]
  },
  {
   "cell_type": "code",
   "execution_count": 2,
   "metadata": {},
   "outputs": [
    {
     "name": "stderr",
     "output_type": "stream",
     "text": [
      "/Users/srrthk/anaconda3/lib/python3.11/site-packages/torchvision/io/image.py:13: UserWarning: Failed to load image Python extension: 'dlopen(/Users/srrthk/anaconda3/lib/python3.11/site-packages/torchvision/image.so, 0x0006): Symbol not found: __ZN3c1017RegisterOperatorsD1Ev\n",
      "  Referenced from: <CFED5F8E-EC3F-36FD-AAA3-2C6C7F8D3DD9> /Users/srrthk/anaconda3/lib/python3.11/site-packages/torchvision/image.so\n",
      "  Expected in:     <13D54172-DB68-3BCA-9DFD-9BABA030E1E4> /Users/srrthk/anaconda3/lib/python3.11/site-packages/torch/lib/libtorch_cpu.dylib'If you don't plan on using image functionality from `torchvision.io`, you can ignore this warning. Otherwise, there might be something wrong with your environment. Did you have `libjpeg` or `libpng` installed before building `torchvision` from source?\n",
      "  warn(\n"
     ]
    },
    {
     "name": "stdout",
     "output_type": "stream",
     "text": [
      "\n",
      "------------- Train Stats --------------\n",
      "\n",
      "Shape of X [N, C, H, W]: torch.Size([64, 1, 28, 28])\n",
      "Shape of y: torch.Size([64]) torch.int64\n",
      "\n",
      "------------- test Stats  --------------\n",
      "\n",
      "Shape of X [N, C, H, W]: torch.Size([64, 1, 28, 28])\n",
      "Shape of y: torch.Size([64]) torch.int64\n",
      "\n",
      "-------------    END      ---------------\n",
      "\n",
      "torch.Size([64, 1, 28, 28])\n"
     ]
    }
   ],
   "source": [
    "from core.dataLoaders.fashion_mnist import Fashion_MNIST\n",
    "import torch\n",
    "import torchvision.transforms as T\n",
    "\n",
    "torch.manual_seed(22)\n",
    "\n",
    "transform = T.Compose([\n",
    "    T.ToTensor(), \n",
    "    # T.Lambda(lambda x: torch.flatten(x))\n",
    "])\n",
    "\n",
    "data_cls = Fashion_MNIST(transforms=transform)\n",
    "\n",
    "# create data loader\n",
    "[train_loader, test_loader] = data_cls.create_loader()\n",
    "\n",
    "train_data_sample_shape  = data_cls.view_sample_stats()\n",
    "print(train_data_sample_shape)"
   ]
  },
  {
   "cell_type": "markdown",
   "metadata": {},
   "source": [
    "## Initilaizing Model"
   ]
  },
  {
   "cell_type": "code",
   "execution_count": 3,
   "metadata": {},
   "outputs": [
    {
     "data": {
      "text/plain": [
       "64"
      ]
     },
     "execution_count": 3,
     "metadata": {},
     "output_type": "execute_result"
    }
   ],
   "source": [
    "train_data_sample_shape[0]"
   ]
  },
  {
   "cell_type": "code",
   "execution_count": 4,
   "metadata": {},
   "outputs": [
    {
     "name": "stdout",
     "output_type": "stream",
     "text": [
      "FVSBN(\n",
      "  (sigmoid): Sigmoid()\n",
      ")\n"
     ]
    }
   ],
   "source": [
    "from core.models.fvsbn import FVSBN\n",
    "\n",
    "model = FVSBN(train_data_sample_shape[2]*train_data_sample_shape[3], device)\n",
    "print(model)"
   ]
  },
  {
   "cell_type": "code",
   "execution_count": 5,
   "metadata": {},
   "outputs": [],
   "source": [
    "import torch.nn as nn\n",
    "import torch\n",
    "# Define the loss function\n",
    "criterion = nn.BCELoss(reduction='sum')\n",
    "\n",
    "# Define the optimizer\n",
    "optimizer = torch.optim.Adam(model.parameters(), lr=0.001)"
   ]
  },
  {
   "cell_type": "markdown",
   "metadata": {},
   "source": [
    "## Training Loop"
   ]
  },
  {
   "cell_type": "code",
   "execution_count": 6,
   "metadata": {},
   "outputs": [
    {
     "name": "stdout",
     "output_type": "stream",
     "text": [
      "Epoch 30, Log Likelihood: 50355.8515625\n",
      "Epoch 30 Generating samples from the model\n",
      "Epoch 40, Log Likelihood: 93199.921875\n",
      "Epoch 50, Log Likelihood: 141418.8125\n",
      "Epoch 60, Log Likelihood: 195534.078125\n",
      "Epoch 60 Generating samples from the model\n",
      "Epoch 70, Log Likelihood: 256349.234375\n",
      "Epoch 80, Log Likelihood: 324889.03125\n",
      "Epoch 90, Log Likelihood: 399995.40625\n",
      "Epoch 90 Generating samples from the model\n",
      "Epoch 100, Log Likelihood: 478356.9375\n",
      "NaN detected in log-likelihoods at epoch 105. Stopping training.\n"
     ]
    },
    {
     "data": {
      "image/png": "[encoded data removed]",
      "text/plain": [
       "<Figure size 640x480 with 1 Axes>"
      ]
     },
     "metadata": {},
     "output_type": "display_data"
    }
   ],
   "source": [
    "from tqdm import tqdm\n",
    "import matplotlib.pyplot as plt\n",
    "\n",
    "st_epochs = 21\n",
    "epochs = 400\n",
    "# Training \n",
    "# tr_bar = tqdm(list(range(epochs)))\n",
    "ep_loss = []\n",
    "test_loss = []\n",
    "model_saturated = False\n",
    "for epoch in range(st_epochs,epochs):\n",
    "    for images, _ in train_loader:\n",
    "        images = images.view(images.size(0), -1)\n",
    "        log_likelihoods = model(images.to(device))# we want to maximize the probability\n",
    "        loss = -log_likelihoods\n",
    "        loss.backward()\n",
    "        optimizer.step()\n",
    "    # Check for NaN in log-likelihoods\n",
    "        if torch.isnan(log_likelihoods).any():\n",
    "            print(f\"NaN detected in log-likelihoods at epoch {epoch+1}. Stopping training.\")\n",
    "            model_saturated = True\n",
    "            break\n",
    "    if model_saturated:\n",
    "        break\n",
    "    if (epoch+1)%10 == 0:\n",
    "        loss = loss.item()\n",
    "        ep_loss.append(loss)\n",
    "        print(f'Epoch {epoch+1}, Log Likelihood: {log_likelihoods.item()}')\n",
    "    if (epoch+1)%30 == 0:\n",
    "        print(f'Epoch {epoch+1} Generating samples from the model')\n",
    "        x = model.sample(2)\n",
    "        # x.nansum()\n",
    "        x = x.view(2, 28,28)\n",
    "        plt.imshow(x[0])\n",
    "        plt.imshow(x[1])\n"
   ]
  },
  {
   "cell_type": "markdown",
   "metadata": {},
   "source": [
    "### Important Observations\n",
    "\n",
    "While training the model, we can see that the model is learning the data distribution by the log likelihoods at every 10 epochs"
   ]
  },
  {
   "cell_type": "markdown",
   "metadata": {},
   "source": [
    "### Sampling from model by giving half the data"
   ]
  },
  {
   "cell_type": "code",
   "execution_count": 16,
   "metadata": {},
   "outputs": [],
   "source": [
    "# Save the model state at this point\n",
    "torch.save(model.state_dict(), f'model_dump/model_{epoch+1}.pt')"
   ]
  },
  {
   "cell_type": "code",
   "execution_count": null,
   "metadata": {},
   "outputs": [],
   "source": [
    "import torch.distributions as dist\n",
    "\n",
    "def sample_img(model, x):\n",
    "    bernoulli_mean_dim = torch.sigmoid(x.matmul(model.weights)+model.bias)\n",
    "    bernoulli_mean_dim = bernoulli_mean_dim.nan_to_num(0)\n",
    "    distribution = dist.bernoulli.Bernoulli(probs=bernoulli_mean_dim)\n",
    "    x = distribution.sample()\n",
    "    return x\n",
    "\n",
    "# Testing the model by giving half the image and predicting the other half\n",
    "for i, (images, _) in enumerate(test_loader):\n",
    "    for img in images:\n",
    "        plt.imshow(img.view(28,28).cpu().numpy())\n",
    "        plt.show()\n",
    "        img = img.view(img.size(0), -1)\n",
    "        mask = torch.ones_like(img)\n",
    "        mask[:, :int(img.shape[1]//2)] = 0\n",
    "        img = img*mask\n",
    "        img = sample_img(model, img)\n",
    "        img = img.view(img.size(0), 28,28)\n",
    "        # plt.imshow(img[0])\n",
    "        # plt.show()\n",
    "    # break\n",
    "print(mask.shape)\n",
    "# mask[:,:,]"
   ]
  },
  {
   "cell_type": "code",
   "execution_count": 9,
   "metadata": {},
   "outputs": [
    {
     "data": {
      "text/plain": [
       "tensor([[0., 0., 0.,  ..., 0., 0., 1.],\n",
       "        [0., 0., 0.,  ..., 0., 0., 0.]])"
      ]
     },
     "execution_count": 9,
     "metadata": {},
     "output_type": "execute_result"
    }
   ],
   "source": [
    "# Drawing Samples from the model and plotting them\n",
    "model.sample(2)"
   ]
  },
  {
   "cell_type": "code",
   "execution_count": 10,
   "metadata": {},
   "outputs": [
    {
     "data": {
      "text/plain": [
       "<matplotlib.image.AxesImage at 0x31429af50>"
      ]
     },
     "execution_count": 10,
     "metadata": {},
     "output_type": "execute_result"
    },
    {
     "data": {
      "image/png": "[encoded data removed]",
      "text/plain": [
       "<Figure size 640x480 with 1 Axes>"
      ]
     },
     "metadata": {},
     "output_type": "display_data"
    }
   ],
   "source": [
    "# resize the sample to 28,28 and plot it\n",
    "import torch.distributions as dist\n",
    "\n",
    "x = model.sample(2)\n",
    "x = x.view(2, 28,28)\n",
    "# plt.imshow(x)\n",
    "plt.imshow(x[0])\n",
    "plt.imshow(x[1])\n",
    "\n"
   ]
  },
  {
   "cell_type": "code",
   "execution_count": 11,
   "metadata": {},
   "outputs": [
    {
     "data": {
      "text/plain": [
       "tensor([[[0., 0., 0.,  ..., 0., 0., 1.],\n",
       "         [1., 1., 1.,  ..., 1., 0., 1.],\n",
       "         [0., 1., 1.,  ..., 1., 0., 0.],\n",
       "         ...,\n",
       "         [0., 1., 1.,  ..., 1., 1., 1.],\n",
       "         [0., 1., 0.,  ..., 0., 0., 0.],\n",
       "         [1., 0., 1.,  ..., 0., 0., 0.]],\n",
       "\n",
       "        [[1., 0., 1.,  ..., 0., 0., 1.],\n",
       "         [0., 0., 0.,  ..., 1., 1., 1.],\n",
       "         [1., 0., 1.,  ..., 1., 0., 0.],\n",
       "         ...,\n",
       "         [1., 1., 1.,  ..., 1., 1., 1.],\n",
       "         [1., 1., 0.,  ..., 1., 1., 0.],\n",
       "         [1., 0., 1.,  ..., 1., 0., 1.]]])"
      ]
     },
     "execution_count": 11,
     "metadata": {},
     "output_type": "execute_result"
    }
   ],
   "source": [
    "import torch.distributions as dist\n",
    "\n",
    "x = torch.rand(2, 28,28)\n",
    "y = dist.bernoulli.Bernoulli(probs=x)\n",
    "y.sample()"
   ]
  },
  {
   "cell_type": "code",
   "execution_count": 12,
   "metadata": {},
   "outputs": [
    {
     "data": {
      "image/png": "[encoded data removed]",
      "text/plain": [
       "<Figure size 1000x600 with 1 Axes>"
      ]
     },
     "metadata": {},
     "output_type": "display_data"
    }
   ],
   "source": [
    "import matplotlib.pyplot as plt\n",
    "\n",
    "# Plotting the loss values\n",
    "plt.figure(figsize=(10, 6))\n",
    "plt.plot(test_loss, label='Training Loss')\n",
    "plt.xlabel('Epoch')\n",
    "plt.ylabel('Loss')\n",
    "plt.title('Test Loss Over Epochs')\n",
    "plt.legend()\n",
    "plt.grid(True)\n",
    "plt.show()"
   ]
  },
  {
   "cell_type": "code",
   "execution_count": 13,
   "metadata": {},
   "outputs": [
    {
     "data": {
      "image/png": "[encoded data removed]",
      "text/plain": [
       "<Figure size 1000x600 with 1 Axes>"
      ]
     },
     "metadata": {},
     "output_type": "display_data"
    }
   ],
   "source": [
    "import matplotlib.pyplot as plt\n",
    "\n",
    "# Plotting the loss values\n",
    "plt.figure(figsize=(10, 6))\n",
    "plt.plot(ep_loss, label='Training Loss')\n",
    "plt.xlabel('Epoch')\n",
    "plt.ylabel('Loss')\n",
    "plt.title('Training Loss Over Epochs')\n",
    "plt.legend()\n",
    "plt.grid(True)\n",
    "plt.show()"
   ]
  },
  {
   "cell_type": "markdown",
   "metadata": {},
   "source": [
    "## Model Testing "
   ]
  },
  {
   "cell_type": "markdown",
   "metadata": {},
   "source": [
    "Higher average log likyhoods indiacet model has learnt the data distribution, conversely, lower avg log likyhoods indicate model's inability to learn the distribution"
   ]
  },
  {
   "cell_type": "code",
   "execution_count": 14,
   "metadata": {},
   "outputs": [],
   "source": [
    "\n",
    "def test(model: FVSBN, loader):\n",
    "    model.eval()  # Set the model to evaluation mode\n",
    "    total_log_likelihood = 0\n",
    "    num_samples = 0\n",
    "    \n",
    "    with torch.no_grad():\n",
    "        for images, _ in loader:\n",
    "            # images = images.view(-1, 784)  # Flatten the images\n",
    "            # images = (images > 0.5).float()  # Binarize the images\n",
    "            \n",
    "            # -------- Approach 1 -------------\n",
    "            # logits =  (model.weights @ images.T).T + model.biases\n",
    "            # probs[:,0] = model.biases[0]\n",
    "            # probs = torch.sigmoid(logits)\n",
    "            # probs = torch.bernoulli(probs)\n",
    "            # log_likelihood = (images * torch.log(probs + 1e-8) + (1 - images) * torch.log(1 - probs + 1e-8)).sum()\n",
    "            # total_log_likelihood += log_likelihood.item()\n",
    "            # num_samples += images.size(0)\n",
    "            # -------- Approach 2 -------------\n",
    "            # [TODO] : Check if this is correct\n",
    "            images = (images > 0.5).float()  # Binarize the images\n",
    "            output = torch.zeros_like(images)\n",
    "            logits =  (model.weights @ images.T).T + model.biases\n",
    "            output[:,0] = torch.sigmoid(model.biases[0])\n",
    "            output[:,1:] = torch.sigmoid(logits[:,:-1])\n",
    "            log_likelihood = (images * torch.log(output + 1e-8) + (1 - images) * torch.log(1 - output + 1e-8)).sum()\n",
    "            total_log_likelihood += log_likelihood.item()\n",
    "            num_samples += images.size(0)\n",
    "        average_log_likelihood = total_log_likelihood / num_samples\n",
    "        print(f'Average Log-Likelihood: {average_log_likelihood}, total iter => {num_samples}')\n",
    "    return average_log_likelihood"
   ]
  },
  {
   "cell_type": "code",
   "execution_count": 24,
   "metadata": {},
   "outputs": [
    {
     "name": "stdout",
     "output_type": "stream",
     "text": [
      "torch.Size([64, 1, 28, 28])\n"
     ]
    },
    {
     "ename": "ZeroDivisionError",
     "evalue": "division by zero",
     "output_type": "error",
     "traceback": [
      "\u001b[0;31m---------------------------------------------------------------------------\u001b[0m",
      "\u001b[0;31mZeroDivisionError\u001b[0m                         Traceback (most recent call last)",
      "Cell \u001b[0;32mIn[24], line 19\u001b[0m\n\u001b[1;32m     17\u001b[0m     num_samples \u001b[38;5;241m+\u001b[39m\u001b[38;5;241m=\u001b[39m images\u001b[38;5;241m.\u001b[39msize(\u001b[38;5;241m0\u001b[39m)\n\u001b[1;32m     18\u001b[0m \u001b[38;5;66;03m# break\u001b[39;00m\n\u001b[0;32m---> 19\u001b[0m average_log_likelihood \u001b[38;5;241m=\u001b[39m total_log_likelihood \u001b[38;5;241m/\u001b[39m num_samples\n",
      "\u001b[0;31mZeroDivisionError\u001b[0m: division by zero"
     ]
    }
   ],
   "source": [
    "loader = test_loader\n",
    "total_log_likelihood = 0\n",
    "num_samples = 0\n",
    "\n",
    "with torch.no_grad():\n",
    "    for images, _ in loader:\n",
    "        images = (images > 0.5).float()  # Binarize the images\n",
    "        print(images.shape)\n",
    "        output = torch.zeros_like(images[:, :, :int(images.shape[1]//2)])\n",
    "        \n",
    "        logits =  (model.weights @ images.T).T + model.biases\n",
    "        output[:,0] = torch.sigmoid(model.biases[0])\n",
    "        output[:,1:] = torch.sigmoid(logits[:,:-1])\n",
    "        log_likelihood = (images * torch.log(output + 1e-8) + (1 - images) * torch.log(1 - output + 1e-8)).sum()\n",
    "        total_log_likelihood += log_likelihood.item()\n",
    "        num_samples += images.size(0)\n",
    "    # break\n",
    "    average_log_likelihood = total_log_likelihood / num_samples"
   ]
  },
  {
   "cell_type": "code",
   "execution_count": null,
   "metadata": {},
   "outputs": [],
   "source": [
    "average_log_likelihood"
   ]
  },
  {
   "cell_type": "markdown",
   "metadata": {},
   "source": [
    "ToDo: Increase the LR by ten folds and see the loss"
   ]
  },
  {
   "cell_type": "code",
   "execution_count": null,
   "metadata": {},
   "outputs": [],
   "source": [
    "test(model, test_loader)"
   ]
  },
  {
   "cell_type": "code",
   "execution_count": null,
   "metadata": {},
   "outputs": [],
   "source": [
    "epochs = 100\n",
    "\n",
    "# Training \n",
    "for epoch in range(epochs):\n",
    "    for images, _ in train_loader:\n",
    "        optimizer.zero_grad()\n",
    "        probs = model(images)\n",
    "        loss = criterion(probs, images)\n",
    "        loss.backward()\n",
    "        optimizer.step()\n",
    "    print(f'Epoch {epoch+1}, Loss: {loss.item()}')"
   ]
  },
  {
   "cell_type": "code",
   "execution_count": null,
   "metadata": {},
   "outputs": [],
   "source": [
    "test(model, test_loader)"
   ]
  },
  {
   "cell_type": "code",
   "execution_count": null,
   "metadata": {},
   "outputs": [],
   "source": [
    "for i, _ in train_loader:\n",
    "    img = i[0]\n",
    "    break\n",
    "print(img.shape)\n",
    "import matplotlib.pyplot as plt\n",
    "# Convert tensor to a NumPy array\n",
    "numpy_array = img.resize(28,28)\n",
    "numpy_array = numpy_array.cpu().numpy()\n",
    "\n",
    "# Plotting the tensor values\n",
    "plt.figure(figsize=(10, 6))\n",
    "plt.imshow(numpy_array)"
   ]
  },
  {
   "cell_type": "code",
   "execution_count": null,
   "metadata": {},
   "outputs": [],
   "source": [
    "numpy_array"
   ]
  },
  {
   "cell_type": "code",
   "execution_count": null,
   "metadata": {},
   "outputs": [],
   "source": []
  }
 ],
 "metadata": {
  "kernelspec": {
   "display_name": "resML",
   "language": "python",
   "name": "python3"
  },
  "language_info": {
   "codemirror_mode": {
    "name": "ipython",
    "version": 3
   },
   "file_extension": ".py",
   "mimetype": "text/x-python",
   "name": "python",
   "nbconvert_exporter": "python",
   "pygments_lexer": "ipython3",
   "version": "3.11.5"
  }
 },
 "nbformat": 4,
 "nbformat_minor": 2
}
