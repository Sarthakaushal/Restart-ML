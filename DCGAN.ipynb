{
 "cells": [
  {
   "cell_type": "code",
   "execution_count": 2,
   "metadata": {},
   "outputs": [],
   "source": [
    "import torch\n",
    "from core.models.GAN import ConvDiscriminator, ConvGenerator"
   ]
  },
  {
   "cell_type": "code",
   "execution_count": 6,
   "metadata": {},
   "outputs": [],
   "source": [
    "from core.dataLoaders.cifar10 import CIFAR10\n",
    "import torchvision.transforms as T\n"
   ]
  },
  {
   "cell_type": "code",
   "execution_count": 9,
   "metadata": {},
   "outputs": [
    {
     "name": "stdout",
     "output_type": "stream",
     "text": [
      "Files already downloaded and verified\n",
      "Files already downloaded and verified\n",
      "\n",
      "------------- Train Stats --------------\n",
      "\n",
      "Shape of X [N, C, H, W]: torch.Size([32, 3, 32, 32])\n",
      "Shape of y: torch.Size([32]) torch.int64\n",
      "\n",
      "------------- test Stats  --------------\n",
      "\n",
      "Shape of X [N, C, H, W]: torch.Size([32, 3, 32, 32])\n",
      "Shape of y: torch.Size([32]) torch.int64\n",
      "\n",
      "-------------    END      ---------------\n",
      "\n",
      "torch.Size([32, 3, 32, 32])\n",
      "torch.Size([32, 1])\n"
     ]
    }
   ],
   "source": [
    "# Data Loading\n",
    "transform = T.Compose([\n",
    "    T.ToTensor(),\n",
    "    T.Normalize((0.5, 0.5, 0.5), (0.5, 0.5, 0.5))\n",
    "])\n",
    "data_cls = CIFAR10(transforms=transform)\n",
    "\n",
    "# create data loader\n",
    "[train_loader, test_loader] = data_cls.create_loader()\n",
    "train_data_sample_shape  = data_cls.view_sample_stats()\n",
    "# sample a batch of data\n",
    "for batch_idx, [real_data, labels] in enumerate(train_loader):\n",
    "    print(real_data.shape)\n",
    "    break\n",
    "\n",
    "#instantiate the model\n",
    "# gen = ConvGenerator([64,1,1], [8,16])\n",
    "disc = ConvDiscriminator([32,3,32,32], [8,16])\n",
    "\n",
    "#pass the data through the model\n",
    "output = disc(real_data)\n",
    "print(output.shape)\n",
    "\n"
   ]
  },
  {
   "cell_type": "code",
   "execution_count": 12,
   "metadata": {},
   "outputs": [
    {
     "data": {
      "text/plain": [
       "torch.Size([32, 1])"
      ]
     },
     "execution_count": 12,
     "metadata": {},
     "output_type": "execute_result"
    }
   ],
   "source": [
    "disc.forward(real_data).size()"
   ]
  },
  {
   "cell_type": "code",
   "execution_count": null,
   "metadata": {},
   "outputs": [],
   "source": []
  }
 ],
 "metadata": {
  "kernelspec": {
   "display_name": "base",
   "language": "python",
   "name": "python3"
  },
  "language_info": {
   "codemirror_mode": {
    "name": "ipython",
    "version": 3
   },
   "file_extension": ".py",
   "mimetype": "text/x-python",
   "name": "python",
   "nbconvert_exporter": "python",
   "pygments_lexer": "ipython3",
   "version": "3.11.5"
  }
 },
 "nbformat": 4,
 "nbformat_minor": 2
}
